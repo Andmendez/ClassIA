{
 "cells": [
  {
   "cell_type": "markdown",
   "metadata": {},
   "source": [
    "### Punto 1. (1.0)\n",
    "Se le proporcionará un conjunto de datos llamado `medical_insurance`. Su tarea es la siguiente:\n",
    "\n",
    "● Cargue el archivo `medical_insurance` en Google Colab.\n",
    "\n",
    "● Realice un análisis exploratorio de los datos para entender las características y su distribución.\n",
    "\n",
    "● Encuentre el modelo de regresión lineal múltiple entre la edad y el índice de masa corporal (BMI) con respecto a los gastos que normalmente se incurren en un hospital.\n",
    "\n",
    "● Utilice este modelo para predecir los gastos médicos para personas con las siguientes combinaciones de edad y BMI: [20, 10], [60, 15], y [30, 19].\n",
    "\n",
    "● Calcule el coeficiente de regresión para las variables dependientes (edad y BMI) con respecto a la variable independiente (gastos).\n",
    "\n",
    "Se requiere el código, la gráfica de los datos y las tres predicciones, además del análisis del coeficiente de regresión."
   ]
  },
  {
   "cell_type": "code",
   "execution_count": 75,
   "metadata": {},
   "outputs": [
    {
     "name": "stdout",
     "output_type": "stream",
     "text": [
      "Gastos médicos para [20, 10]: $ 1745.8273091917945\n",
      "Gastos médicos para [60, 15]: $ 13065.030394106696\n",
      "Gastos médicos para [30, 19]: $ 7160.51615451109\n",
      "Coeficientes de regresión: [241.28833399 333.53394504]\n"
     ]
    },
    {
     "name": "stderr",
     "output_type": "stream",
     "text": [
      "c:\\Users\\Andres Mendez\\anaconda3\\Lib\\site-packages\\sklearn\\base.py:493: UserWarning: X does not have valid feature names, but LinearRegression was fitted with feature names\n",
      "  warnings.warn(\n",
      "c:\\Users\\Andres Mendez\\anaconda3\\Lib\\site-packages\\sklearn\\base.py:493: UserWarning: X does not have valid feature names, but LinearRegression was fitted with feature names\n",
      "  warnings.warn(\n",
      "c:\\Users\\Andres Mendez\\anaconda3\\Lib\\site-packages\\sklearn\\base.py:493: UserWarning: X does not have valid feature names, but LinearRegression was fitted with feature names\n",
      "  warnings.warn(\n"
     ]
    }
   ],
   "source": [
    "import pandas as pd\n",
    "\n",
    "df = pd.read_csv('Datasets/medical_insurance.csv')\n",
    "\n",
    "df.head()\n",
    "\n",
    "from sklearn.model_selection import train_test_split\n",
    "from sklearn.linear_model import LinearRegression\n",
    "from sklearn.metrics import mean_squared_error, r2_score\n",
    "\n",
    "X = df[['age', 'bmi']]\n",
    "y = df['charges']\n",
    "\n",
    "\n",
    "model = LinearRegression()\n",
    "\n",
    "model.fit(X,y)\n",
    "\n",
    "\n",
    "predicted_20_10 = model.predict([[20, 10]])\n",
    "predicted_60_15 = model.predict([[60, 15]])\n",
    "predicted_30_19 = model.predict([[30, 19]])\n",
    "\n",
    "print(\"Gastos médicos para [20, 10]: $\",predicted_20_10[0])\n",
    "print(\"Gastos médicos para [60, 15]: $\",predicted_60_15[0])\n",
    "print(\"Gastos médicos para [30, 19]: $\", predicted_30_19[0])\n",
    "\n",
    "coefficients = model.coef_\n",
    "intercept = model.intercept_\n",
    "\n",
    "print(\"Coeficientes de regresión:\", coefficients)\n",
    "print(\"Intercepto:\", intercept)"
   ]
  },
  {
   "cell_type": "markdown",
   "metadata": {},
   "source": [
    "### Punto 3. (1.0)\n",
    "\n",
    "Para el dataset “Position” debe realizar la regresión polinomial, graficar con su línea de\n",
    "regresión, calcular el R2 score y, además, predecir los valores para la posición 17 y 11."
   ]
  },
  {
   "cell_type": "code",
   "execution_count": 57,
   "metadata": {},
   "outputs": [
    {
     "name": "stderr",
     "output_type": "stream",
     "text": [
      "No artists with labels found to put in legend.  Note that artists whose label start with an underscore are ignored when legend() is called with no argument.\n"
     ]
    },
    {
     "data": {
      "image/png": "[encoded data removed]",
      "text/plain": [
       "<Figure size 640x480 with 1 Axes>"
      ]
     },
     "metadata": {},
     "output_type": "display_data"
    },
    {
     "name": "stdout",
     "output_type": "stream",
     "text": [
      "r2: 0.9812097727913367\n",
      "El salario aproximado para la posicion 11: 1475333.333333333\n",
      "El salario aproximado para la posicion 17: 9161102.564102551\n"
     ]
    }
   ],
   "source": [
    "import pandas as pd\n",
    "import numpy\n",
    "from sklearn.metrics import r2_score\n",
    "import matplotlib.pyplot as plt\n",
    "\n",
    "df = pd.read_csv('Datasets/position.csv')\n",
    "\n",
    "df.head()\n",
    "\n",
    "x = df['Level'].values \n",
    "y = df['Salary'].values  \n",
    "\n",
    "\n",
    "mymodel = numpy.poly1d(numpy.polyfit(x, y, 3)) # Modelo polinomial de grado 3\n",
    "\n",
    "data11 = mymodel(11) # Prediccion\n",
    "data17 = mymodel(17) # Prediccion\n",
    "\n",
    "myline = numpy.linspace(1, 10, 1000000)\n",
    "\n",
    "plt.title('Regresión Polinomial')\n",
    "plt.xlabel('Level')\n",
    "plt.ylabel('Salary')\n",
    "plt.legend()\n",
    "plt.scatter(x, y)\n",
    "plt.plot(myline, mymodel(myline))\n",
    "plt.show()\n",
    "\n",
    "mymodel = numpy.poly1d(numpy.polyfit(x, y, 3))\n",
    "r2 = r2_score(y, mymodel(x))\n",
    "print(\"r2:\", r2)\n",
    "\n",
    "print(\"El salario aproximado para la posicion 11:\", data11)\n",
    "print(\"El salario aproximado para la posicion 17:\", data17)\n",
    "\n",
    "\n"
   ]
  },
  {
   "cell_type": "code",
   "execution_count": 50,
   "metadata": {},
   "outputs": [
    {
     "data": {
      "text/html": [
       "<div>\n",
       "<style scoped>\n",
       "    .dataframe tbody tr th:only-of-type {\n",
       "        vertical-align: middle;\n",
       "    }\n",
       "\n",
       "    .dataframe tbody tr th {\n",
       "        vertical-align: top;\n",
       "    }\n",
       "\n",
       "    .dataframe thead th {\n",
       "        text-align: right;\n",
       "    }\n",
       "</style>\n",
       "<table border=\"1\" class=\"dataframe\">\n",
       "  <thead>\n",
       "    <tr style=\"text-align: right;\">\n",
       "      <th></th>\n",
       "      <th>PatientID</th>\n",
       "      <th>Pregnancies</th>\n",
       "      <th>PlasmaGlucose</th>\n",
       "      <th>DiastolicBloodPressure</th>\n",
       "      <th>TricepsThickness</th>\n",
       "      <th>SerumInsulin</th>\n",
       "      <th>BMI</th>\n",
       "      <th>DiabetesPedigree</th>\n",
       "      <th>Age</th>\n",
       "      <th>Diabetic</th>\n",
       "    </tr>\n",
       "  </thead>\n",
       "  <tbody>\n",
       "    <tr>\n",
       "      <th>0</th>\n",
       "      <td>1354778</td>\n",
       "      <td>0</td>\n",
       "      <td>171</td>\n",
       "      <td>80</td>\n",
       "      <td>34</td>\n",
       "      <td>23</td>\n",
       "      <td>43.509726</td>\n",
       "      <td>1.213191</td>\n",
       "      <td>21</td>\n",
       "      <td>0</td>\n",
       "    </tr>\n",
       "    <tr>\n",
       "      <th>1</th>\n",
       "      <td>1147438</td>\n",
       "      <td>8</td>\n",
       "      <td>92</td>\n",
       "      <td>93</td>\n",
       "      <td>47</td>\n",
       "      <td>36</td>\n",
       "      <td>21.240576</td>\n",
       "      <td>0.158365</td>\n",
       "      <td>23</td>\n",
       "      <td>0</td>\n",
       "    </tr>\n",
       "    <tr>\n",
       "      <th>2</th>\n",
       "      <td>1640031</td>\n",
       "      <td>7</td>\n",
       "      <td>115</td>\n",
       "      <td>47</td>\n",
       "      <td>52</td>\n",
       "      <td>35</td>\n",
       "      <td>41.511523</td>\n",
       "      <td>0.079019</td>\n",
       "      <td>23</td>\n",
       "      <td>0</td>\n",
       "    </tr>\n",
       "    <tr>\n",
       "      <th>3</th>\n",
       "      <td>1883350</td>\n",
       "      <td>9</td>\n",
       "      <td>103</td>\n",
       "      <td>78</td>\n",
       "      <td>25</td>\n",
       "      <td>304</td>\n",
       "      <td>29.582192</td>\n",
       "      <td>1.282870</td>\n",
       "      <td>43</td>\n",
       "      <td>1</td>\n",
       "    </tr>\n",
       "    <tr>\n",
       "      <th>4</th>\n",
       "      <td>1424119</td>\n",
       "      <td>1</td>\n",
       "      <td>85</td>\n",
       "      <td>59</td>\n",
       "      <td>27</td>\n",
       "      <td>35</td>\n",
       "      <td>42.604536</td>\n",
       "      <td>0.549542</td>\n",
       "      <td>22</td>\n",
       "      <td>0</td>\n",
       "    </tr>\n",
       "  </tbody>\n",
       "</table>\n",
       "</div>"
      ],
      "text/plain": [
       "   PatientID  Pregnancies  PlasmaGlucose  DiastolicBloodPressure  \\\n",
       "0    1354778            0            171                      80   \n",
       "1    1147438            8             92                      93   \n",
       "2    1640031            7            115                      47   \n",
       "3    1883350            9            103                      78   \n",
       "4    1424119            1             85                      59   \n",
       "\n",
       "   TricepsThickness  SerumInsulin        BMI  DiabetesPedigree  Age  Diabetic  \n",
       "0                34            23  43.509726          1.213191   21         0  \n",
       "1                47            36  21.240576          0.158365   23         0  \n",
       "2                52            35  41.511523          0.079019   23         0  \n",
       "3                25           304  29.582192          1.282870   43         1  \n",
       "4                27            35  42.604536          0.549542   22         0  "
      ]
     },
     "execution_count": 50,
     "metadata": {},
     "output_type": "execute_result"
    }
   ],
   "source": [
    "import pandas as pd\n",
    "\n",
    "df = pd.read_csv('Datasets/diabetes.csv')\n",
    "\n",
    "df.head()"
   ]
  },
  {
   "cell_type": "code",
   "execution_count": 56,
   "metadata": {},
   "outputs": [
    {
     "name": "stderr",
     "output_type": "stream",
     "text": [
      "c:\\Users\\Andres Mendez\\anaconda3\\Lib\\site-packages\\sklearn\\utils\\validation.py:1300: DataConversionWarning: A column-vector y was passed when a 1d array was expected. Please change the shape of y to (n_samples, ), for example using ravel().\n",
      "  y = column_or_1d(y, warn=True)\n",
      "c:\\Users\\Andres Mendez\\anaconda3\\Lib\\site-packages\\sklearn\\utils\\validation.py:1300: DataConversionWarning: A column-vector y was passed when a 1d array was expected. Please change the shape of y to (n_samples, ), for example using ravel().\n",
      "  y = column_or_1d(y, warn=True)\n"
     ]
    },
    {
     "name": "stdout",
     "output_type": "stream",
     "text": [
      "Modelo entrenado:\n",
      " LogisticRegression(C=100.0, solver='liblinear')\n",
      "Precisión en el conjunto de prueba: 0.7888888888888889\n",
      "Predicción para el nuevo paciente (diabético=1, no diabético=0): 0\n"
     ]
    }
   ],
   "source": [
    "import pandas as pd\n",
    "from sklearn.metrics import accuracy_score\n",
    "\n",
    "df = pd.read_csv('Datasets/diabetes.csv')\n",
    "\n",
    "df.head()\n",
    "\n",
    "features = ['Pregnancies', 'PlasmaGlucose', 'DiastolicBloodPressure', 'TricepsThickness', 'SerumInsulin', 'BMI', 'DiabetesPedigree', 'Age']\n",
    "label = ['Diabetic']\n",
    "\n",
    "X = df[features].values \n",
    "y = df[label].values  \n",
    "\n",
    "# Importamos el modelo de Regresión Logistica de la biblioteca skelearn\n",
    "from sklearn import linear_model\n",
    "\n",
    "X_train, X_test, y_train, y_test = train_test_split(X, y, test_size=0.3, random_state=0)\n",
    "\n",
    "from sklearn.linear_model import LogisticRegression\n",
    "\n",
    "reg = 0.01\n",
    "\n",
    "model = LogisticRegression(C=1/reg, solver=\"liblinear\").fit(X_train, y_train)\n",
    "#print(model) # Imprime el modelo entrenado\n",
    "\n",
    "model.fit(X_train, y_train)\n",
    "y_pred = model.predict(X_test)\n",
    "\n",
    "\n",
    "accuracy = accuracy_score(y_test, y_pred)\n",
    "\n",
    "print(\"Modelo entrenado:\\n\", model)\n",
    "print(\"Precisión en el conjunto de prueba:\", accuracy)\n",
    "\n",
    "\n",
    "new_patient = [[2, 120, 70, 30, 100, 25.0, 0.5, 35]]\n",
    "prediction = model.predict(new_patient)\n",
    "\n",
    "\n",
    "print(\"Predicción para el nuevo paciente (diabético=1, no diabético=0):\", prediction[0])"
   ]
  },
  {
   "cell_type": "code",
   "execution_count": 86,
   "metadata": {},
   "outputs": [
    {
     "data": {
      "image/png": "[encoded data removed]",
      "text/plain": [
       "<Figure size 640x480 with 1 Axes>"
      ]
     },
     "metadata": {},
     "output_type": "display_data"
    },
    {
     "name": "stdout",
     "output_type": "stream",
     "text": [
      "0.9845777073755907\n",
      "Prediccion para el valor 22.5: 103.41437737795783\n",
      "Prediccion para el valor 35: 328.784458144551\n",
      "Prediccion para el valor 5.9: 10.721839775025925\n"
     ]
    }
   ],
   "source": [
    "import numpy as np\n",
    "import matplotlib.pyplot as plt\n",
    "\n",
    "\n",
    "x = [0, 1, 2, 3, 4, 5, 6, 7, 8, 9, 10, 11, 12, 13, 14, 15, 16, 17, 18, 19, 20, 21, 22, 23, 24, 25, 26, 27, 28, 29]\n",
    "y = [3, 4, 5, 7, 10, 8, 9, 10, 10, 23, 27, 44, 50, 63, 67, 60, 62, 70, 75, 88, 81, 87, 95, 100, 108, 135, 151, 160, 169, 179]\n",
    "\n",
    "mymodel = numpy.poly1d(numpy.polyfit(x, y, 5))\n",
    "myline = numpy.linspace(0, 29, 179)\n",
    "plt.scatter(x, y)\n",
    "plt.plot(myline, mymodel(myline))\n",
    "plt.show()\n",
    "\n",
    "from sklearn.metrics import r2_score\n",
    "\n",
    "print(r2_score(y, mymodel(x)))\n",
    "\n",
    "# PREDECIR\n",
    "\n",
    "pred_22_5 = mymodel(22.5)\n",
    "pred_35 = mymodel(35)\n",
    "pred_5_9 = mymodel(5.9)\n",
    "\n",
    "print(\"Prediccion para el valor 22.5:\",pred_22_5)\n",
    "print(\"Prediccion para el valor 35:\",pred_35)\n",
    "print(\"Prediccion para el valor 5.9:\",pred_5_9)"
   ]
  },
  {
   "cell_type": "code",
   "execution_count": null,
   "metadata": {},
   "outputs": [],
   "source": [
    "\n"
   ]
  }
 ],
 "metadata": {
  "kernelspec": {
   "display_name": "base",
   "language": "python",
   "name": "python3"
  },
  "language_info": {
   "codemirror_mode": {
    "name": "ipython",
    "version": 3
   },
   "file_extension": ".py",
   "mimetype": "text/x-python",
   "name": "python",
   "nbconvert_exporter": "python",
   "pygments_lexer": "ipython3",
   "version": "3.12.4"
  }
 },
 "nbformat": 4,
 "nbformat_minor": 2
}

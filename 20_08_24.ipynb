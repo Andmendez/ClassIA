{
 "cells": [
  {
   "cell_type": "markdown",
   "metadata": {},
   "source": [
    "<h1>Clase del 20 de Agosto del 2024</h1>"
   ]
  },
  {
   "cell_type": "markdown",
   "metadata": {},
   "source": [
    "<h3>Condicional IF and ELSE</h3>\n",
    "\n",
    "a == b --> Igual\n",
    "\n",
    "a != b --> Distinto\n",
    "\n",
    "a < b --> Menor\n",
    "\n",
    "a <= b --> Menor o Igual\n",
    "\n",
    "a > b --> mayor\n",
    "\n",
    "a >= b --> Mayor o Igual"
   ]
  },
  {
   "cell_type": "code",
   "execution_count": 3,
   "metadata": {},
   "outputs": [
    {
     "name": "stdout",
     "output_type": "stream",
     "text": [
      "True\n"
     ]
    }
   ],
   "source": [
    "a = 7\n",
    "b = 3\n",
    "\n",
    "if(a > b):\n",
    "    print(True)\n",
    "elif:\n",
    "\n",
    "else:\n",
    "    print(False)\n"
   ]
  },
  {
   "cell_type": "markdown",
   "metadata": {},
   "source": [
    "<h2>Calculadora con opciones</h2>"
   ]
  },
  {
   "cell_type": "code",
   "execution_count": 8,
   "metadata": {},
   "outputs": [
    {
     "name": "stdout",
     "output_type": "stream",
     "text": [
      "Esta opcion no existe.\n"
     ]
    }
   ],
   "source": [
    "num1 = float(input(\"Ingrese el primer numero a operar: \"))\n",
    "num2 = float(input(\"Ingrese el segundo numero a operar: \"))\n",
    "\n",
    "if (num1 > 0 and num2 > 0):\n",
    "    operacion = int(input(\"Ingrese que operacion desea realizar: \\n 1. Suma \\n 2. Resta \\n 3. Multiplicacion \\n 4. Division\"))\n",
    "\n",
    "    if (operacion == 1):\n",
    "        print(\"La suma da: \", num1 + num2)\n",
    "    elif(operacion == 2):\n",
    "        print(\"La resta da: \", num1-num2)\n",
    "    elif(operacion == 3):\n",
    "        print(\"La multiplicacion da: \", num1*num2)\n",
    "    elif(operacion == 4):\n",
    "        print(\"La division da: \", num1/num2)\n",
    "    else:\n",
    "        print(\"Esta opcion no existe.\")\n",
    "\n",
    "else:\n",
    "    print(\"El numero no es mayor que 0.\")\n",
    "    "
   ]
  },
  {
   "cell_type": "markdown",
   "metadata": {},
   "source": [
    "<h2>Par o Impar</h2>"
   ]
  },
  {
   "cell_type": "code",
   "execution_count": 19,
   "metadata": {},
   "outputs": [
    {
     "name": "stdout",
     "output_type": "stream",
     "text": [
      "El 2 es un numero par.\n"
     ]
    }
   ],
   "source": [
    "num = int(input(\"Ingrese un numero entero: \"))\n",
    "\n",
    "\n",
    "if num > 0:\n",
    "    if num % 2 == 0:\n",
    "        print(\"El\",num,\"es un numero par.\")\n",
    "    else:\n",
    "        print(\"El\",num,\"es un numero impar.\")\n",
    "elif num == 0:\n",
    "    print(\"El\",num,\"es un numero par.\")\n",
    "else:\n",
    "    print(\"Ingresa bien tu numero\")"
   ]
  },
  {
   "cell_type": "markdown",
   "metadata": {},
   "source": [
    "<h2>Divisible entre 5 y 7</h2>"
   ]
  },
  {
   "cell_type": "code",
   "execution_count": 23,
   "metadata": {},
   "outputs": [
    {
     "name": "stdout",
     "output_type": "stream",
     "text": [
      "El número 70 es divisible entre 5 y 7.\n"
     ]
    }
   ],
   "source": [
    "num = int(input(\"Ingrese un número entero: \"))\n",
    "\n",
    "\n",
    "if num % 5 == 0 and num % 7 == 0:\n",
    "    print(\"El número\", num, \"es divisible entre 5 y 7.\")\n",
    "else:\n",
    "    print(\"El número\", num ,\"no es divisible entre 5 y 7.\")"
   ]
  },
  {
   "cell_type": "markdown",
   "metadata": {},
   "source": [
    "<h2>De Celsius a Farenheit</h2>"
   ]
  },
  {
   "cell_type": "code",
   "execution_count": null,
   "metadata": {},
   "outputs": [],
   "source": []
  }
 ],
 "metadata": {
  "kernelspec": {
   "display_name": "base",
   "language": "python",
   "name": "python3"
  },
  "language_info": {
   "codemirror_mode": {
    "name": "ipython",
    "version": 3
   },
   "file_extension": ".py",
   "mimetype": "text/x-python",
   "name": "python",
   "nbconvert_exporter": "python",
   "pygments_lexer": "ipython3",
   "version": "3.12.4"
  }
 },
 "nbformat": 4,
 "nbformat_minor": 2
}

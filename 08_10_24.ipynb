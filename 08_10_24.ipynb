{
 "cells": [
  {
   "cell_type": "markdown",
   "metadata": {},
   "source": [
    "<h1>Clase del 08 de Octubre del 2024</h1>"
   ]
  },
  {
   "attachments": {
    "image.png": {
     "image/png": "[encoded data removed]"
    }
   },
   "cell_type": "markdown",
   "metadata": {},
   "source": [
    "<h3>Regresion Logistica</h3>\n",
    "\n",
    "\n",
    "<p>Pretende resolver problemas de clasificación. Para ello, predice resultados categoricos, a difrencia de la regresión lineal, que predice un resultado continuo.</p>\n",
    "\n",
    "<p>Un ejemplo común de regresión logistica multinomial sería predecir la clase de una flor iris entre 3 especies diferentes.</p>\n",
    "\n",
    "\n",
    "<p>--> Curva sigmoidea o curva s</p>\n",
    "\n",
    "![image.png](attachment:image.png)"
   ]
  },
  {
   "cell_type": "code",
   "execution_count": 8,
   "metadata": {},
   "outputs": [
    {
     "name": "stdout",
     "output_type": "stream",
     "text": [
      "[0]\n"
     ]
    }
   ],
   "source": [
    "# Importamos la biblioteca numpy para manipulación de matrices y vectores\n",
    "import numpy\n",
    "\n",
    "# X representa el tamaño de un tumor en centimetros\n",
    "X = numpy.array([3.78, 2.44, 2.09, 0.14, 1.72, 1.65, 4.92, 4.37, 4.96, 4.52, 3.69, 5.88]).reshape(-1,1)\n",
    "\n",
    "# y representa si el tumer es canceroso o no (0 para \"No\", 1 para \"Si\")\n",
    "y = numpy.array([0, 0, 0, 0, 0, 0, 1, 1, 1, 1, 1, 1])\n",
    "\n",
    "# Importamos el modelo de Regresión Logistica de la biblioteca skelearn\n",
    "from sklearn import linear_model\n",
    "\n",
    "# Creamos una instancia del modelo de Regresión logística\n",
    "logr =  linear_model.LogisticRegression()\n",
    "\n",
    "\n",
    "# Entrenamos el modelo con los datos de tamaño del tumor y si es canceroso o no\n",
    "logr.fit(X, y)\n",
    "\n",
    "# Declaramos la variable con la cual cambiamos el tamaño del tumor\n",
    "tamaño = 3.4\n",
    "\n",
    "\n",
    "# Predecimos si un tumor es canceroso cuando el tamaño sea el valor de la variable \"tamaño\"\n",
    "predicted = logr.predict(numpy.array([tamaño]).reshape(-1,1))\n",
    "\n",
    "\n",
    "# Imprimimos el resultado de la prediccion\n",
    "print(predicted)\n",
    "\n",
    "\n",
    "# Se analiza que si el tamaño es <= 3.4 el tumor no es canceroso\n"
   ]
  },
  {
   "cell_type": "code",
   "execution_count": 16,
   "metadata": {},
   "outputs": [
    {
     "name": "stdout",
     "output_type": "stream",
     "text": [
      "[0]\n"
     ]
    }
   ],
   "source": [
    "# Importamos la biblioteca numpy para manipulación de matrices y vectores\n",
    "import numpy\n",
    "\n",
    "# X representa la holgura de una cadena de motocicleta en cm\n",
    "X = numpy.array([2.5, 1.2, 2.05, 1.58, 1.72, 1.65, 2.9, 3.37, 4.96, 3.52, 3.69, 5.88]).reshape(-1,1)\n",
    "\n",
    "# y representa si la cadena necesita ser tensionada o no (0 para \"No\", 1 para \"Si\")\n",
    "y = numpy.array([0, 0, 0, 0, 0, 0, 1, 1, 1, 1, 1, 1])\n",
    "\n",
    "# Importamos el modelo de Regresión Logistica de la biblioteca skelearn\n",
    "from sklearn import linear_model\n",
    "\n",
    "# Creamos una instancia del modelo de Regresión logística\n",
    "logr =  linear_model.LogisticRegression()\n",
    "\n",
    "\n",
    "# Entrenamos el modelo con los datos de holgura de la cadena y si necesita mantenimiento o no\n",
    "logr.fit(X, y)\n",
    "\n",
    "# Declaramos la variable con la cual cambiamos la holgura\n",
    "tamaño = 2.7\n",
    "\n",
    "\n",
    "# Predecimos si la cadena necesita mantenimiento cuando el tamaño sea el valor de la variable \"tamaño\"\n",
    "predicted = logr.predict(numpy.array([tamaño]).reshape(-1,1))\n",
    "\n",
    "\n",
    "# Imprimimos el resultado de la prediccion\n",
    "print(predicted)\n",
    "\n",
    "\n",
    "# Se analiza que si la holgura es <= 2.7 la cadena necesita mantenimiento\n"
   ]
  },
  {
   "cell_type": "code",
   "execution_count": 17,
   "metadata": {},
   "outputs": [
    {
     "name": "stdout",
     "output_type": "stream",
     "text": [
      "[[4.03557295]]\n"
     ]
    }
   ],
   "source": [
    "# Importamos la biblioteca numpy para manipulación de matrices y vectores\n",
    "import numpy\n",
    "\n",
    "# X representa el tamaño de un tumor en centimetros\n",
    "X = numpy.array([3.78, 2.44, 2.09, 0.14, 1.72, 1.65, 4.92, 4.37, 4.96, 4.52, 3.69, 5.88]).reshape(-1,1)\n",
    "\n",
    "# y representa si el tumer es canceroso o no (0 para \"No\", 1 para \"Si\")\n",
    "y = numpy.array([0, 0, 0, 0, 0, 0, 1, 1, 1, 1, 1, 1])\n",
    "\n",
    "# Importamos el modelo de Regresión Logistica de la biblioteca skelearn\n",
    "from sklearn import linear_model\n",
    "\n",
    "# Creamos una instancia del modelo de Regresión logística\n",
    "logr =  linear_model.LogisticRegression()\n",
    "\n",
    "\n",
    "# Entrenamos el modelo con los datos de tamaño del tumor y si es canceroso o no\n",
    "logr.fit(X, y)\n",
    "\n",
    "# Obtenemos los coeficientes del modelo de regresión logistica, que representan los logaritmos de las odds\n",
    "log_odds = logr.coef_\n",
    "odds = numpy.exp(log_odds)\n",
    "\n",
    "# Imprimimos las odds. Las odds representan la probabilidad de que un tumor sea canceroso dividida por la probabilidad de que no lo es\n",
    "print(odds)\n"
   ]
  },
  {
   "cell_type": "code",
   "execution_count": null,
   "metadata": {},
   "outputs": [],
   "source": []
  }
 ],
 "metadata": {
  "kernelspec": {
   "display_name": "base",
   "language": "python",
   "name": "python3"
  },
  "language_info": {
   "codemirror_mode": {
    "name": "ipython",
    "version": 3
   },
   "file_extension": ".py",
   "mimetype": "text/x-python",
   "name": "python",
   "nbconvert_exporter": "python",
   "pygments_lexer": "ipython3",
   "version": "3.12.4"
  }
 },
 "nbformat": 4,
 "nbformat_minor": 2
}
